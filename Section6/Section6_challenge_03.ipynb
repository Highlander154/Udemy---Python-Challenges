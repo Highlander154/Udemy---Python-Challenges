{
 "cells": [
  {
   "cell_type": "markdown",
   "metadata": {},
   "source": [
    "📌 Description:\n",
    "> * Write a Python program that merges two dictionaries and prints the resulting dictionary.\n",
    "> * \"Merging\" the dictionaries involves making a new dictionary with the key-value pairs in both dictionaries."
   ]
  },
  {
   "cell_type": "markdown",
   "metadata": {},
   "source": [
    "🔹 Expected Output:\n",
    "\n",
    "From these two dictionaries:  \n",
    "`my_dict1 = {\"a\": 1, \"b\": 2, \"c\": 3}`  \n",
    "`my_dict2 = {\"c\": 4, \"d\": 6, \"e\": 8}`  \n",
    "\n",
    "The output should be:  \n",
    "`final_dict = {'a': 1, 'b': 2, 'c': 4, 'd': 6, 'e': 8}`"
   ]
  },
  {
   "cell_type": "markdown",
   "metadata": {},
   "source": [
    "🔸 Hints:\n",
    "> * Notice that the key-value pairs that share the same key on both dictionaries are not repeated. They are updated with the value of the second dictionary.\n",
    "> * There is a Python operator that you can use to merge two or more dictionaries."
   ]
  },
  {
   "cell_type": "code",
   "execution_count": 12,
   "metadata": {},
   "outputs": [
    {
     "name": "stdout",
     "output_type": "stream",
     "text": [
      "{}\n"
     ]
    }
   ],
   "source": [
    "# merging 2 dictionaries is done like this\n",
    "d1: dict = {\"A\": 1}\n",
    "d2: dict = {\"B\": 2}\n",
    "new_dict = d1 | d2\n",
    "print(new_dict)"
   ]
  },
  {
   "cell_type": "markdown",
   "metadata": {},
   "source": [
    "---\n",
    "#### Function\n",
    "---"
   ]
  },
  {
   "cell_type": "code",
   "execution_count": 13,
   "metadata": {},
   "outputs": [],
   "source": [
    "def merge_dict(dict1: dict, dict2: dict) -> dict:\n",
    "    return dict1 | dict2"
   ]
  },
  {
   "cell_type": "markdown",
   "metadata": {},
   "source": [
    "---\n",
    "#### Function\n",
    "---"
   ]
  },
  {
   "cell_type": "code",
   "execution_count": 14,
   "metadata": {},
   "outputs": [
    {
     "data": {
      "text/plain": [
       "{'a': 1, 'b': 2, 'c': 4, 'd': 6, 'e': 8}"
      ]
     },
     "execution_count": 14,
     "metadata": {},
     "output_type": "execute_result"
    }
   ],
   "source": [
    "my_dict1 = {\"a\": 1, \"b\": 2, \"c\": 3}\n",
    "my_dict2 = {\"c\": 4, \"d\": 6, \"e\": 8}\n",
    "\n",
    "merge_dict(my_dict1, my_dict2)"
   ]
  }
 ],
 "metadata": {
  "kernelspec": {
   "display_name": "venv",
   "language": "python",
   "name": "python3"
  },
  "language_info": {
   "codemirror_mode": {
    "name": "ipython",
    "version": 3
   },
   "file_extension": ".py",
   "mimetype": "text/x-python",
   "name": "python",
   "nbconvert_exporter": "python",
   "pygments_lexer": "ipython3",
   "version": "3.12.0"
  }
 },
 "nbformat": 4,
 "nbformat_minor": 2
}
