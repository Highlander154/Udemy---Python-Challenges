{
 "cells": [
  {
   "cell_type": "markdown",
   "metadata": {},
   "source": [
    "📌 Description:\n",
    "> * Write a Python program that adds a new key-value pair to a dictionary only if the key doesn't exist already.\n",
    "> * If the key-value pair exists in the dictionary, do not update the existing value. The dictionary should not be modified in this case.\n",
    "> * Store the new key in the new_key variable and the new value in the new_value variable.\n",
    "> * Print the final value of the dictionary."
   ]
  },
  {
   "cell_type": "markdown",
   "metadata": {},
   "source": [
    "🔹 Expected Output:\n",
    "**Example 1: New Pair Added**\n",
    "\n",
    "Initial Dictionary:  \n",
    "```{\"January\": 45, \"February\": 56, \"March\": 67}```\n",
    "\n",
    "New Key-Value Pair:  \n",
    "```\"April\": 67```\n",
    "\n",
    "Output:  \n",
    "```{\"January\": 45, \"February\": 56, \"March\": 67, \"April\": 67}```\n",
    "\n",
    "**Example 2: No Change**\n",
    "\n",
    "Initial Dictionary:   \n",
    "```{\"January\": 45, \"February\": 56, \"March\": 67}```\n",
    "\n",
    "New Key-Value Pair:   \n",
    "```# The key already exists in the dictionary```   \n",
    "```\"January\": 67```\n",
    "\n",
    "Output:   \n",
    "```{\"January\": 45, \"February\": 56, \"March\": 67}```"
   ]
  },
  {
   "cell_type": "code",
   "execution_count": 1,
   "metadata": {},
   "outputs": [],
   "source": [
    "def add_pairs(dict_: dict, new_pairs: dict) -> dict:\n",
    "    for key, value in new_pairs.items():\n",
    "        if key not in dict_.keys():\n",
    "            dict_[key] = value\n",
    "        else:\n",
    "            continue\n",
    "    return dict_\n",
    "            \n"
   ]
  },
  {
   "cell_type": "code",
   "execution_count": 2,
   "metadata": {},
   "outputs": [
    {
     "data": {
      "text/plain": [
       "{'January': 45, 'February': 56, 'March': 67, 'April': 67}"
      ]
     },
     "execution_count": 2,
     "metadata": {},
     "output_type": "execute_result"
    }
   ],
   "source": [
    "my_dict = {\"January\": 45, \"February\": 56, \"March\": 67}\n",
    "new_pairs = {\"April\": 67, \"January\": 67}\n",
    "\n",
    "add_pairs(my_dict, new_pairs)"
   ]
  },
  {
   "cell_type": "code",
   "execution_count": null,
   "metadata": {},
   "outputs": [
    {
     "data": {
      "text/plain": [
       "{'January': 45, 'February': 56, 'March': 67, 'April': 67}"
      ]
     },
     "metadata": {},
     "output_type": "display_data"
    }
   ],
   "source": [
    "my_dict = {\"February\": 56, \"March\": 67}\n",
    "new_pairs = {\"April\": 67, \"January\": 67}\n",
    "\n",
    "add_pairs(my_dict, new_pairs)"
   ]
  }
 ],
 "metadata": {
  "kernelspec": {
   "display_name": "venv",
   "language": "python",
   "name": "python3"
  },
  "language_info": {
   "codemirror_mode": {
    "name": "ipython",
    "version": 3
   },
   "file_extension": ".py",
   "mimetype": "text/x-python",
   "name": "python",
   "nbconvert_exporter": "python",
   "pygments_lexer": "ipython3",
   "version": "3.12.0"
  }
 },
 "nbformat": 4,
 "nbformat_minor": 2
}
