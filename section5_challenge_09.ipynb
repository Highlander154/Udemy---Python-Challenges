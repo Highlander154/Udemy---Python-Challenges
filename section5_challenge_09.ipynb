{
 "cells": [
  {
   "cell_type": "markdown",
   "metadata": {},
   "source": [
    "📌 As an optional challenge,\n",
    "> * Try to implement and test the previous exercises using Tuples.\n",
    "> * Tuples are immutable, so they cannot be modified. Therefore, they cannot be used in the problems that modify the list but you can use them in the problems where the list is not modified."
   ]
  },
  {
   "cell_type": "markdown",
   "metadata": {},
   "source": [
    "---\n",
    "##### Challenge_01 tuple version\n",
    "---"
   ]
  },
  {
   "cell_type": "code",
   "execution_count": 181,
   "metadata": {},
   "outputs": [],
   "source": [
    "def tuple_difference(tupleA: tuple, tupleB: tuple) -> tuple:\n",
    "    if not tupleA or tupleA == tupleB:\n",
    "        return tuple()\n",
    "    return tuple(set(tupleA).difference(set(tupleB)))"
   ]
  },
  {
   "cell_type": "code",
   "execution_count": 182,
   "metadata": {},
   "outputs": [
    {
     "data": {
      "text/plain": [
       "(3, 4)"
      ]
     },
     "execution_count": 182,
     "metadata": {},
     "output_type": "execute_result"
    }
   ],
   "source": [
    "tupA = (1,2,3,4)\n",
    "tupB = (1,2)\n",
    "tuple_difference(tupA, tupB)"
   ]
  },
  {
   "cell_type": "markdown",
   "metadata": {},
   "source": [
    "---\n",
    "##### Challenge_02 tuple version\n",
    "---"
   ]
  },
  {
   "cell_type": "code",
   "execution_count": 183,
   "metadata": {},
   "outputs": [],
   "source": [
    "from math import sqrt\n",
    "\n",
    "def distance_ab(pointA: tuple[int, ...], pointB: tuple[int, ...]) -> float:\n",
    "    dx = pointB[0] - pointA[0]\n",
    "    dy = pointB[1] - pointA[1]\n",
    "    dz = pointB[2] - pointA[2]\n",
    "    distance = sqrt(dx**2 + dy**2 + dz**2)\n",
    "    return round(distance, 5)"
   ]
  },
  {
   "cell_type": "code",
   "execution_count": 184,
   "metadata": {},
   "outputs": [
    {
     "name": "stdout",
     "output_type": "stream",
     "text": [
      "2.23607\n"
     ]
    }
   ],
   "source": [
    "pa = (3, 4, 5)\n",
    "pb = (1, 3, 5)\n",
    "print(distance_ab(pa, pb))"
   ]
  },
  {
   "cell_type": "markdown",
   "metadata": {},
   "source": [
    "---\n",
    "##### Challenge_03 tuple version\n",
    "---"
   ]
  },
  {
   "cell_type": "code",
   "execution_count": 185,
   "metadata": {},
   "outputs": [],
   "source": [
    "def in_common(tupleA: tuple[int, ...], tupleB: tuple[int, ...]) -> tuple:\n",
    "    l = [i for i in tupleA if i in tupleB]\n",
    "    return tuple(l)"
   ]
  },
  {
   "cell_type": "code",
   "execution_count": 186,
   "metadata": {},
   "outputs": [
    {
     "name": "stdout",
     "output_type": "stream",
     "text": [
      "(4,)\n"
     ]
    }
   ],
   "source": [
    "tupA = (4, 5, 6)\n",
    "tupB = (1, 4)\n",
    "print(in_common(tupA, tupB))"
   ]
  },
  {
   "cell_type": "markdown",
   "metadata": {},
   "source": [
    "---\n",
    "##### Challenge_04 tuple version\n",
    "---"
   ]
  },
  {
   "cell_type": "code",
   "execution_count": 187,
   "metadata": {},
   "outputs": [],
   "source": [
    "def nth_largest(tuple_: tuple[int, ...], n: int = 2) -> int|None:\n",
    "    if len(tuple_) <= n-1:\n",
    "        return None\n",
    "    if n <= 0:\n",
    "        return None\n",
    "    return sorted(tuple_)[-n]"
   ]
  },
  {
   "cell_type": "code",
   "execution_count": 188,
   "metadata": {},
   "outputs": [
    {
     "name": "stdout",
     "output_type": "stream",
     "text": [
      "4\n"
     ]
    }
   ],
   "source": [
    "t = (4, 2, 3, 1, -1, 5)\n",
    "print(nth_largest(t))"
   ]
  },
  {
   "cell_type": "markdown",
   "metadata": {},
   "source": [
    "---\n",
    "##### Challenge_05 tuple version\n",
    "---"
   ]
  },
  {
   "cell_type": "code",
   "execution_count": 189,
   "metadata": {},
   "outputs": [],
   "source": [
    "def nth_smallest(tuple_: tuple[int, ...], n: int = 2) -> int|None:\n",
    "    if len(tuple_) <= n-1:\n",
    "        return None\n",
    "    if n <= 0:\n",
    "        return None\n",
    "    return sorted(tuple_)[n-1]"
   ]
  },
  {
   "cell_type": "code",
   "execution_count": 190,
   "metadata": {},
   "outputs": [
    {
     "name": "stdout",
     "output_type": "stream",
     "text": [
      "1\n"
     ]
    }
   ],
   "source": [
    "t = (4, 2, 3, 1, -1, 5)\n",
    "print(nth_smallest(t))"
   ]
  },
  {
   "cell_type": "markdown",
   "metadata": {},
   "source": [
    "---\n",
    "##### Challenge_06 tuple version\n",
    "---"
   ]
  },
  {
   "cell_type": "code",
   "execution_count": 191,
   "metadata": {},
   "outputs": [],
   "source": [
    "def count_frequency(tuple_: tuple) -> dict:\n",
    "    result = {}\n",
    "    set_ = sorted(set(tuple_))\n",
    "    for item in set_:\n",
    "        result[item] = tuple_.count(item)\n",
    "    return result"
   ]
  },
  {
   "cell_type": "code",
   "execution_count": 192,
   "metadata": {},
   "outputs": [
    {
     "name": "stdout",
     "output_type": "stream",
     "text": [
      "{'a': 3, 'b': 2, 'c': 1}\n"
     ]
    }
   ],
   "source": [
    "l = (\"a\", \"a\", \"b\", \"c\", \"a\", \"b\")\n",
    "print(count_frequency(l))"
   ]
  },
  {
   "cell_type": "markdown",
   "metadata": {},
   "source": [
    "---\n",
    "##### Challenge_07 tuple version\n",
    "---"
   ]
  },
  {
   "cell_type": "code",
   "execution_count": 193,
   "metadata": {},
   "outputs": [],
   "source": [
    "def flattened_tuple(tuple_: tuple) -> tuple:\n",
    "    result = []\n",
    "    for element in tuple_:\n",
    "        if isinstance(element, tuple):\n",
    "            nested_tuple = element\n",
    "            for nested_element in nested_tuple:\n",
    "                result.append(nested_element)\n",
    "        else:\n",
    "            result.append(element)\n",
    "    return tuple(result)"
   ]
  },
  {
   "cell_type": "code",
   "execution_count": 194,
   "metadata": {},
   "outputs": [
    {
     "name": "stdout",
     "output_type": "stream",
     "text": [
      "(1, 2, 3, 4, 5, 6, 7, 8, 9)\n"
     ]
    }
   ],
   "source": [
    "l = ((1,2,3), (4,5,6), (7,8,9))\n",
    "print(flattened_tuple(l))"
   ]
  },
  {
   "cell_type": "markdown",
   "metadata": {},
   "source": [
    "---\n",
    "##### Challenge_08 tuple version\n",
    "---"
   ]
  },
  {
   "cell_type": "code",
   "execution_count": 195,
   "metadata": {},
   "outputs": [],
   "source": [
    "from itertools import permutations\n",
    "\n",
    "def show_permutations(tuple_: tuple) -> tuple:\n",
    "    perm = tuple(permutations(tuple_))\n",
    "    for p in perm:\n",
    "        print(p)\n",
    "    return perm     "
   ]
  },
  {
   "cell_type": "code",
   "execution_count": 196,
   "metadata": {},
   "outputs": [
    {
     "name": "stdout",
     "output_type": "stream",
     "text": [
      "(1, 2, 3)\n",
      "(1, 3, 2)\n",
      "(2, 1, 3)\n",
      "(2, 3, 1)\n",
      "(3, 1, 2)\n",
      "(3, 2, 1)\n"
     ]
    },
    {
     "data": {
      "text/plain": [
       "((1, 2, 3), (1, 3, 2), (2, 1, 3), (2, 3, 1), (3, 1, 2), (3, 2, 1))"
      ]
     },
     "execution_count": 196,
     "metadata": {},
     "output_type": "execute_result"
    }
   ],
   "source": [
    "l = (1, 2, 3)\n",
    "show_permutations(l)"
   ]
  }
 ],
 "metadata": {
  "kernelspec": {
   "display_name": "Python 3",
   "language": "python",
   "name": "python3"
  },
  "language_info": {
   "codemirror_mode": {
    "name": "ipython",
    "version": 3
   },
   "file_extension": ".py",
   "mimetype": "text/x-python",
   "name": "python",
   "nbconvert_exporter": "python",
   "pygments_lexer": "ipython3",
   "version": "3.11.0"
  }
 },
 "nbformat": 4,
 "nbformat_minor": 2
}
