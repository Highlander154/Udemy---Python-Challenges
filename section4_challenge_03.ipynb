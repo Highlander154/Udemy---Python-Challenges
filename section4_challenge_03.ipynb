{
 "cells": [
  {
   "cell_type": "markdown",
   "metadata": {},
   "source": [
    "📌 Description:\n",
    "> * Write a Python program that prints the largest and smallest values in a list\n",
    "> * Print the two values on the same line, separated by a space.\n",
    "> * The largest value should appear first and the smallest value should appear second.\n",
    "> * You may assume that the list only contains numeric values.\n",
    "> * If the list is empty, print None."
   ]
  },
  {
   "cell_type": "markdown",
   "metadata": {},
   "source": [
    "🔹 Expected Output:\n",
    "List | Output\n",
    "--- | ---\n",
    "[3, 4, 5, 6] | 6 3\n",
    "[-1, -2, -3, -4] | -1 -4\n",
    "[0, 0, 0, 0] | 0 0\n",
    "[] | None"
   ]
  },
  {
   "cell_type": "markdown",
   "metadata": {},
   "source": [
    "🔸 Hints:\n",
    "> * The functions min() and max() can be helpful for this challenge. "
   ]
  },
  {
   "cell_type": "markdown",
   "metadata": {},
   "source": [
    "---\n",
    "#### Function\n",
    "---"
   ]
  },
  {
   "cell_type": "code",
   "execution_count": 1,
   "metadata": {},
   "outputs": [],
   "source": [
    "def min_max(list_: list) -> str|None:\n",
    "    return f\"{max(list_)} {min(list_)}\" if list_ else None"
   ]
  },
  {
   "cell_type": "markdown",
   "metadata": {},
   "source": [
    "---\n",
    "#### Tests\n",
    "---"
   ]
  },
  {
   "cell_type": "code",
   "execution_count": 2,
   "metadata": {},
   "outputs": [
    {
     "name": "stdout",
     "output_type": "stream",
     "text": [
      "6 3\n",
      "-1 -4\n",
      "0 0\n",
      "None\n"
     ]
    }
   ],
   "source": [
    "print(min_max([3,4,5,6]))\n",
    "print(min_max([-1,-2,-3,-4]))\n",
    "print(min_max([0,0,0,0]))\n",
    "print(min_max([]))"
   ]
  }
 ],
 "metadata": {
  "kernelspec": {
   "display_name": "Python 3",
   "language": "python",
   "name": "python3"
  },
  "language_info": {
   "codemirror_mode": {
    "name": "ipython",
    "version": 3
   },
   "file_extension": ".py",
   "mimetype": "text/x-python",
   "name": "python",
   "nbconvert_exporter": "python",
   "pygments_lexer": "ipython3",
   "version": "3.11.0"
  }
 },
 "nbformat": 4,
 "nbformat_minor": 2
}
