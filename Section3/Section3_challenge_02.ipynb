{
 "cells": [
  {
   "cell_type": "markdown",
   "metadata": {},
   "source": [
    "📌 Description:\n",
    "> * Write a Python program that checks if the string s contains all the letters in the alphabet (case-insensitive, so \"A\" should be equivalent to \"a\").\n",
    "> * If it does, print True. Else, print False.\n",
    "> * Before comparing the characters, you should convert the string to lowercase.\n",
    "> * If the string contains spaces, ignore them before finding the result.\n",
    "> * You may assume that the string doesn't contain any other symbols, only spaces (possibly).\n",
    "> * Consider these letters as part of the alphabet: 'abcdefghijklmnopqrstuvwxyz'\n",
    "\n",
    "🔹 Expected Output:\n",
    "String | Output\n",
    "--- | ---\n",
    "\"abcdefghijklmnopqrstuvwxyz\" | True\n",
    "\"The quick brown fox jumps over the lazy dog\" | True\n",
    "\"Hello\" | False\n",
    "\n",
    "🔸 Hints:\n",
    "- To use a constant with all letters of the alphabet, you may use `string.ascii_lowercase` from the `string` module. You can import this module by writing import string at the top of your script.\n",
    "- It can also be helpful to use sets in this problem.\n"
   ]
  },
  {
   "cell_type": "code",
   "execution_count": 3,
   "metadata": {},
   "outputs": [],
   "source": [
    "import string\n",
    "alphabet = string.ascii_lowercase"
   ]
  },
  {
   "cell_type": "code",
   "execution_count": 24,
   "metadata": {},
   "outputs": [],
   "source": [
    "def has_whole_alphabet(s: str) -> bool:\n",
    "    set_s = sorted(set(s.lower()))\n",
    "    new_s = \"\".join(set_s).lstrip()\n",
    "    return new_s == alphabet"
   ]
  },
  {
   "cell_type": "code",
   "execution_count": 25,
   "metadata": {},
   "outputs": [
    {
     "name": "stdout",
     "output_type": "stream",
     "text": [
      "True\n",
      "True\n",
      "False\n"
     ]
    }
   ],
   "source": [
    "print(has_whole_alphabet(\"abcdefghijklmnopqrstuvwxyz\"))\n",
    "print(has_whole_alphabet(\"The quick brown fox jumps over the lazy dog\"))\n",
    "print(has_whole_alphabet(\"hello\"))"
   ]
  }
 ],
 "metadata": {
  "kernelspec": {
   "display_name": "Python 3",
   "language": "python",
   "name": "python3"
  },
  "language_info": {
   "codemirror_mode": {
    "name": "ipython",
    "version": 3
   },
   "file_extension": ".py",
   "mimetype": "text/x-python",
   "name": "python",
   "nbconvert_exporter": "python",
   "pygments_lexer": "ipython3",
   "version": "3.12.0"
  }
 },
 "nbformat": 4,
 "nbformat_minor": 2
}
