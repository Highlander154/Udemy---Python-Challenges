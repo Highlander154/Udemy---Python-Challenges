{
 "cells": [
  {
   "cell_type": "markdown",
   "metadata": {},
   "source": [
    "📌 Description:\n",
    "Write a Python program that prints a version of the string s with all commas replaced by dots.\n",
    "\n",
    "🔹 Expected Output:\n",
    "String | Output\n",
    "--- | ---\n",
    "\"Hello, World!\" | \"Hello. World!\"\n",
    "\"3,456,344\" | \"3.456.344\"\n"
   ]
  },
  {
   "cell_type": "markdown",
   "metadata": {},
   "source": [
    "---\n",
    "#### Function\n",
    "---"
   ]
  },
  {
   "cell_type": "code",
   "execution_count": 1,
   "metadata": {},
   "outputs": [],
   "source": [
    "def change_comma_to_dot(s: str) -> str:\n",
    "    return s.replace(\",\", \".\")"
   ]
  },
  {
   "cell_type": "markdown",
   "metadata": {},
   "source": [
    "---\n",
    "#### Tests\n",
    "---"
   ]
  },
  {
   "cell_type": "code",
   "execution_count": 2,
   "metadata": {},
   "outputs": [
    {
     "name": "stdout",
     "output_type": "stream",
     "text": [
      "Hello. World!\n",
      "3.456.344\n"
     ]
    }
   ],
   "source": [
    "print(change_comma_to_dot(\"Hello, World!\"))\n",
    "print(change_comma_to_dot(\"3,456,344\"))"
   ]
  }
 ],
 "metadata": {
  "kernelspec": {
   "display_name": "Python 3",
   "language": "python",
   "name": "python3"
  },
  "language_info": {
   "codemirror_mode": {
    "name": "ipython",
    "version": 3
   },
   "file_extension": ".py",
   "mimetype": "text/x-python",
   "name": "python",
   "nbconvert_exporter": "python",
   "pygments_lexer": "ipython3",
   "version": "3.12.0"
  }
 },
 "nbformat": 4,
 "nbformat_minor": 2
}
