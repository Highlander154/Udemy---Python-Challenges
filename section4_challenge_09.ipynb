{
  "cells": [
    {
      "cell_type": "markdown",
      "metadata": {},
      "source": [
        "📌 Description:\n",
        "> * Write a Python program that finds the intersection of two sets (set1 and set2).\n",
        "> * Create a new set called intersection with their intersection.\n",
        "> * Print the new set as the output.\n",
        "> * If the intersection is empty, print an empty set."
      ]
    },
    {
      "cell_type": "markdown",
      "metadata": {},
      "source": [
        "🔹 Expected Output:\n",
        "set1 | set2 | intersection\n",
        "--- | --- | ---\n",
        "{1,2,3} | {4,5,6} | {}\n",
        "{1,2,3} | {3,4,5} | {3}\n",
        "{1,2,3,4} | {3,4,5,6} | {3,4}\n",
        "{1,2,3,4} | {1,2,3,4} | {1,2,3,4}"
      ]
    },
    {
      "cell_type": "markdown",
      "metadata": {},
      "source": [
        "---\n",
        "#### Function\n",
        "---"
      ]
    },
    {
      "cell_type": "code",
      "execution_count": 6,
      "metadata": {},
      "outputs": [],
      "source": [
        "def set_intersection(set1: set, set2: set) -> set:\n",
        "    return set1.intersection(set2)"
      ]
    },
    {
      "cell_type": "markdown",
      "metadata": {},
      "source": [
        "---\n",
        "#### Tests\n",
        "---"
      ]
    },
    {
      "cell_type": "code",
      "execution_count": 7,
      "metadata": {},
      "outputs": [
        {
          "name": "stdout",
          "output_type": "stream",
          "text": [
            "set()\n"
          ]
        }
      ],
      "source": [
        "print(set_intersection({1,2,3}, {4,5,6}))"
      ]
    },
    {
      "cell_type": "code",
      "execution_count": 8,
      "metadata": {},
      "outputs": [
        {
          "name": "stdout",
          "output_type": "stream",
          "text": [
            "{3}\n"
          ]
        }
      ],
      "source": [
        "print(set_intersection({1,2,3}, {3,4,5}))"
      ]
    },
    {
      "cell_type": "code",
      "execution_count": 9,
      "metadata": {},
      "outputs": [
        {
          "name": "stdout",
          "output_type": "stream",
          "text": [
            "{3, 4}\n"
          ]
        }
      ],
      "source": [
        "print(set_intersection({1,2,3,4}, {3,4,5,6}))"
      ]
    },
    {
      "cell_type": "code",
      "execution_count": 10,
      "metadata": {},
      "outputs": [
        {
          "name": "stdout",
          "output_type": "stream",
          "text": [
            "{1, 2, 3, 4}\n"
          ]
        }
      ],
      "source": [
        "print(set_intersection({1,2,3,4}, {1,2,3,4}))"
      ]
    }
  ],
  "metadata": {
    "kernelspec": {
      "display_name": "Python 3",
      "language": "python",
      "name": "python3"
    },
    "language_info": {
      "codemirror_mode": {
        "name": "ipython",
        "version": 3
      },
      "file_extension": ".py",
      "mimetype": "text/x-python",
      "name": "python",
      "nbconvert_exporter": "python",
      "pygments_lexer": "ipython3",
      "version": "3.11.0"
    }
  },
  "nbformat": 4,
  "nbformat_minor": 2
}
