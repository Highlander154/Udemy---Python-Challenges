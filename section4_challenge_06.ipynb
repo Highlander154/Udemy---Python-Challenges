{
 "cells": [
  {
   "cell_type": "markdown",
   "metadata": {},
   "source": [
    "📌 Description:\n",
    "> * Write a Python program that removes all occurrences of the element elem_to_remove from a list.\n",
    "> * The output of the program should be the new list with the element removed.\n",
    "> * If the element is not found in the list, print the message \"Not Found\".\n",
    "> * If the list is empty, print \"Empty List\"."
   ]
  },
  {
   "cell_type": "markdown",
   "metadata": {},
   "source": [
    "🔹 Expected Output:\n",
    "List | Element to Remove | Output\n",
    "--- | --- | ---\n",
    "[1,2,3,4] | 2 | [1,3,4]\n",
    "[3,3,2,1] | 3 | [2,1]\n",
    "[\"a\",\"b\",\"c\",\"b\"] | \"b\" | [\"a\",\"c\"]\n",
    "[3,4,5,6] | 7 | \"Not Found\"\n",
    "[] | 0 | \"Empty List\""
   ]
  },
  {
   "cell_type": "markdown",
   "metadata": {},
   "source": [
    "---\n",
    "#### Function\n",
    "---"
   ]
  },
  {
   "cell_type": "code",
   "execution_count": 1,
   "metadata": {},
   "outputs": [],
   "source": [
    "def remove_element(list_: list, element: str|int) -> str|list:\n",
    "    if not list_:\n",
    "        return \"Empty List\"\n",
    "    if not element in list_:\n",
    "        return \"Not Found\"\n",
    "    return [i for i in list_ if i != element]\n",
    "    "
   ]
  },
  {
   "cell_type": "markdown",
   "metadata": {},
   "source": [
    "---\n",
    "#### Tests\n",
    "---"
   ]
  },
  {
   "cell_type": "code",
   "execution_count": 2,
   "metadata": {},
   "outputs": [
    {
     "name": "stdout",
     "output_type": "stream",
     "text": [
      "[1, 3, 4]\n",
      "[2, 1]\n",
      "['a', 'c']\n",
      "Not Found\n",
      "Empty List\n"
     ]
    }
   ],
   "source": [
    "print(remove_element([1,2,3,4], 2))\n",
    "print(remove_element([3,3,2,1], 3))\n",
    "print(remove_element([\"a\",\"b\",\"c\",\"b\"], \"b\"))\n",
    "print(remove_element([3,4,5,6], 7))\n",
    "print(remove_element([], 0))\n"
   ]
  }
 ],
 "metadata": {
  "kernelspec": {
   "display_name": "Python 3",
   "language": "python",
   "name": "python3"
  },
  "language_info": {
   "codemirror_mode": {
    "name": "ipython",
    "version": 3
   },
   "file_extension": ".py",
   "mimetype": "text/x-python",
   "name": "python",
   "nbconvert_exporter": "python",
   "pygments_lexer": "ipython3",
   "version": "3.11.0"
  }
 },
 "nbformat": 4,
 "nbformat_minor": 2
}
