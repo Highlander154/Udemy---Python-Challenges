{
 "cells": [
  {
   "cell_type": "markdown",
   "metadata": {},
   "source": [
    "📌 Description:\n",
    "> * Write a Python program that counts the frequency of each value in a dictionary.\n",
    "> * The program should create a new dictionary to map each value in the original dictionary to its frequency (how many times it occurs).\n",
    "> * If the dictionary is empty, print an empty dictionary."
   ]
  },
  {
   "cell_type": "markdown",
   "metadata": {},
   "source": [
    "🔹 Expected Output:\n",
    "If this is the dictionary:\n",
    "\n",
    "`my_dict = {\n",
    "\t\"a\": 4,\n",
    "\t\"b\": 4,\n",
    "\t\"c\": 2,\n",
    "\t\"d\": 7,\n",
    "\t\"e\": 4,\n",
    "\t\"f\": 2,\n",
    "\t\"g\": 7,\n",
    "\t\"h\": 7\n",
    " }`\n",
    "\n",
    "The output should be:\n",
    "\n",
    "`freq_dict = {\n",
    "\t4: 3, \n",
    "\t2: 2,\n",
    "\t7: 3\n",
    "}`\n",
    "\n",
    "Each value in my_dict is a key in the freq_dict and it is\n",
    "mapped to its corresponding frequency as the value."
   ]
  },
  {
   "cell_type": "markdown",
   "metadata": {},
   "source": [
    "---\n",
    "#### Function\n",
    "---"
   ]
  },
  {
   "cell_type": "code",
   "execution_count": 17,
   "metadata": {},
   "outputs": [],
   "source": [
    "def value_frequency(dict_: dict) -> dict:\n",
    "    values_list = list(dict_.values())\n",
    "    values_set = set(values_list)\n",
    "    return {value: values_list.count(value) for value in values_set}"
   ]
  },
  {
   "cell_type": "markdown",
   "metadata": {},
   "source": [
    "---\n",
    "#### Tests\n",
    "---"
   ]
  },
  {
   "cell_type": "code",
   "execution_count": 18,
   "metadata": {},
   "outputs": [
    {
     "name": "stdout",
     "output_type": "stream",
     "text": [
      "{2: 2, 4: 3, 7: 3}\n"
     ]
    }
   ],
   "source": [
    "my_dict = {\n",
    "\t\"a\": 4,\n",
    "\t\"b\": 4,\n",
    "\t\"c\": 2,\n",
    "\t\"d\": 7,\n",
    "\t\"e\": 4,\n",
    "\t\"f\": 2,\n",
    "\t\"g\": 7,\n",
    "\t\"h\": 7\n",
    " }\n",
    "\n",
    "print(value_frequency(my_dict))\n"
   ]
  }
 ],
 "metadata": {
  "kernelspec": {
   "display_name": "venv",
   "language": "python",
   "name": "python3"
  },
  "language_info": {
   "codemirror_mode": {
    "name": "ipython",
    "version": 3
   },
   "file_extension": ".py",
   "mimetype": "text/x-python",
   "name": "python",
   "nbconvert_exporter": "python",
   "pygments_lexer": "ipython3",
   "version": "3.12.0"
  }
 },
 "nbformat": 4,
 "nbformat_minor": 2
}
