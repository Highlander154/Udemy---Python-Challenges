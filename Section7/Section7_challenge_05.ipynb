{
 "cells": [
  {
   "cell_type": "markdown",
   "metadata": {},
   "source": [
    "📌 Description:\n",
    "> * Write a Python program that sorts (in ascending order) the lists contained as values in a dictionary.\n",
    "> * The dictionary contains key-value pairs that match strings to lists. You need to sort these lists.\n",
    "> * The lists have to be mutated (changed)."
   ]
  },
  {
   "cell_type": "markdown",
   "metadata": {},
   "source": [
    "🔹 Expected Output:\n",
    "\n",
    "If this is the dictionary:\n",
    "\n",
    "`my_dict = {\n",
    "\t\"a\": [4, 3, 2],\n",
    "\t\"b\": [5, 3, 7],\n",
    "\t\"c\": [1, 9, 10],\n",
    "\t\"d\": [3, 4, 1]\n",
    "}`\n",
    "\n",
    "The final output should be:\n",
    "\n",
    "`my_dict = {\n",
    "\t\"a\": [2, 3, 4],\n",
    "\t\"b\": [3, 5, 7],\n",
    "\t\"c\": [1, 9, 10],\n",
    "\t\"d\": [1, 3, 4]\n",
    "}`\n",
    "\n",
    "Notice how all the lists are now sorted in ascending order."
   ]
  },
  {
   "cell_type": "markdown",
   "metadata": {},
   "source": [
    "🔸 Hints:\n",
    "> * The .sort() method sorts a list (the list is mutated/changed).\n",
    "> * Be careful with using sorted() because it only returns a sorted copy of the list."
   ]
  },
  {
   "cell_type": "markdown",
   "metadata": {},
   "source": [
    "---\n",
    "#### Function\n",
    "---"
   ]
  },
  {
   "cell_type": "code",
   "execution_count": 15,
   "metadata": {},
   "outputs": [],
   "source": [
    "def sort_dict_values(dict_: dict) -> dict:\n",
    "    return {k: v.sort() for k, v in dict_.items()}"
   ]
  },
  {
   "cell_type": "markdown",
   "metadata": {},
   "source": [
    "---\n",
    "#### Tests\n",
    "---"
   ]
  },
  {
   "cell_type": "code",
   "execution_count": 16,
   "metadata": {},
   "outputs": [
    {
     "data": {
      "text/plain": [
       "{'a': [2, 3, 4], 'b': [3, 5, 7], 'c': [1, 9, 10], 'd': [1, 3, 4]}"
      ]
     },
     "execution_count": 16,
     "metadata": {},
     "output_type": "execute_result"
    }
   ],
   "source": [
    "my_dict = {\n",
    "\t\"a\": [4, 3, 2],\n",
    "\t\"b\": [5, 3, 7],\n",
    "\t\"c\": [1, 9, 10],\n",
    "\t\"d\": [3, 4, 1]\n",
    "}\n",
    "\n",
    "sort_dict_values(my_dict)\n",
    "my_dict\n"
   ]
  }
 ],
 "metadata": {
  "kernelspec": {
   "display_name": "venv",
   "language": "python",
   "name": "python3"
  },
  "language_info": {
   "codemirror_mode": {
    "name": "ipython",
    "version": 3
   },
   "file_extension": ".py",
   "mimetype": "text/x-python",
   "name": "python",
   "nbconvert_exporter": "python",
   "pygments_lexer": "ipython3",
   "version": "3.12.0"
  }
 },
 "nbformat": 4,
 "nbformat_minor": 2
}
