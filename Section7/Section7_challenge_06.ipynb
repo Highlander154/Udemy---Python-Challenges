{
 "cells": [
  {
   "cell_type": "markdown",
   "metadata": {},
   "source": [
    "📌 Description:\n",
    "> * Write a Python program that takes the content of a dictionary and converts it into a list of lists.\n",
    "> * Each nested list should contain a key as the first element and its corresponding value as the second element.\n",
    "> * Print the final list of lists."
   ]
  },
  {
   "cell_type": "markdown",
   "metadata": {},
   "source": [
    "🔹 Expected Output:\n",
    "\n",
    "If this is the original dictionary:\n",
    "\n",
    "`product_info = {\n",
    "\t\"description\": \"shoe\",\n",
    "\t\"price\": 4.56,  \n",
    "\t\"colors\": [\"green\", \"blue\", \"red\"],  \n",
    "}`\n",
    "\n",
    "The output should be:\n",
    "\n",
    "`[['description', 'shoe'], \n",
    "  ['price', 4.56], \n",
    "  ['colors', ['green', 'blue', 'red']]]`"
   ]
  },
  {
   "cell_type": "markdown",
   "metadata": {},
   "source": [
    "---\n",
    "#### Function\n",
    "---"
   ]
  },
  {
   "cell_type": "code",
   "execution_count": 3,
   "metadata": {},
   "outputs": [],
   "source": [
    "def dict_to_list(dict_: dict) -> list:\n",
    "    return [[k, v] for k,v in dict_.items()]"
   ]
  },
  {
   "cell_type": "markdown",
   "metadata": {},
   "source": [
    "---\n",
    "#### Tests\n",
    "---"
   ]
  },
  {
   "cell_type": "code",
   "execution_count": 4,
   "metadata": {},
   "outputs": [
    {
     "data": {
      "text/plain": [
       "[['description', 'shoe'],\n",
       " ['price', 4.56],\n",
       " ['colors', ['green', 'blue', 'red']]]"
      ]
     },
     "execution_count": 4,
     "metadata": {},
     "output_type": "execute_result"
    }
   ],
   "source": [
    "product_info = {\n",
    "\t\"description\": \"shoe\",\n",
    "\t\"price\": 4.56,\n",
    "\t\"colors\": [\"green\", \"blue\", \"red\"],\n",
    "}\n",
    "\n",
    "dict_to_list(product_info)"
   ]
  }
 ],
 "metadata": {
  "kernelspec": {
   "display_name": "venv",
   "language": "python",
   "name": "python3"
  },
  "language_info": {
   "codemirror_mode": {
    "name": "ipython",
    "version": 3
   },
   "file_extension": ".py",
   "mimetype": "text/x-python",
   "name": "python",
   "nbconvert_exporter": "python",
   "pygments_lexer": "ipython3",
   "version": "3.12.0"
  }
 },
 "nbformat": 4,
 "nbformat_minor": 2
}
