{
 "cells": [
  {
   "cell_type": "markdown",
   "metadata": {},
   "source": [
    "📌 Description:\n",
    "> * Write a Python program that creates a dictionary from the values contained in nested lists.\n",
    "> * Each nested list has this format [value1, value2].\n",
    "> * value1 should be the key in the dictionary and value2 should be its corresponding value.\n",
    "> * If there are no nested lists, print an empty dictionary."
   ]
  },
  {
   "cell_type": "markdown",
   "metadata": {},
   "source": [
    "🔹 Expected Output:\n",
    "\n",
    "If this is the list that contains nested lists:\n",
    "\n",
    "`[[\"a\", 1], [\"b\", 2], [\"c\", 3], [\"d\", 4]]`\n",
    "\n",
    "The result should be:\n",
    "\n",
    "`{\"a\": 1, \"b\": 2, \"c\": 3, \"d\": 4}`"
   ]
  },
  {
   "cell_type": "markdown",
   "metadata": {},
   "source": [
    "---\n",
    "#### Function\n",
    "---"
   ]
  },
  {
   "cell_type": "code",
   "execution_count": 1,
   "metadata": {},
   "outputs": [],
   "source": [
    "def dict_from_nested_lists(list_:list[list,]) -> dict:\n",
    "    return {nl[0]: nl[1] for nl in list_}"
   ]
  },
  {
   "cell_type": "markdown",
   "metadata": {},
   "source": [
    "---\n",
    "#### Tests\n",
    "---"
   ]
  },
  {
   "cell_type": "code",
   "execution_count": 2,
   "metadata": {},
   "outputs": [
    {
     "name": "stdout",
     "output_type": "stream",
     "text": [
      "{'a': 1, 'b': 2, 'c': 3, 'd': 4}\n"
     ]
    }
   ],
   "source": [
    "l = [[\"a\",  1], [\"b\", 2], [\"c\", 3], [\"d\", 4]]\n",
    "print(dict_from_nested_lists(l))"
   ]
  }
 ],
 "metadata": {
  "kernelspec": {
   "display_name": "venv",
   "language": "python",
   "name": "python3"
  },
  "language_info": {
   "codemirror_mode": {
    "name": "ipython",
    "version": 3
   },
   "file_extension": ".py",
   "mimetype": "text/x-python",
   "name": "python",
   "nbconvert_exporter": "python",
   "pygments_lexer": "ipython3",
   "version": "3.12.0"
  }
 },
 "nbformat": 4,
 "nbformat_minor": 2
}
