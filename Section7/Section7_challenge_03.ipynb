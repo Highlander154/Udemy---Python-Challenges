{
 "cells": [
  {
   "cell_type": "markdown",
   "metadata": {},
   "source": [
    "📌 Description:\n",
    "> * Write a Python program that prints the maximum sum of the values in a dictionary.\n",
    "> * You may assume that all the values in the dictionary are either lists or tuples."
   ]
  },
  {
   "cell_type": "markdown",
   "metadata": {},
   "source": [
    "🔹 Expected Output:\n",
    "\n",
    "If this is the dictionary:\n",
    "\n",
    "`my_dict = {\n",
    "\t\"a\": [1, 2, 3],\n",
    "\t\"b\": [4, 0, -4],\n",
    "\t\"c\": [3, 5, 9],\n",
    "\t\"d\": [45, 12, 100]\n",
    "}`\n",
    "\n",
    "This should be the output:\n",
    "\n",
    "157"
   ]
  },
  {
   "cell_type": "markdown",
   "metadata": {},
   "source": [
    "🔸 Hints:\n",
    "\n",
    "The sum() function returns the sum of the elements of a list or tuple."
   ]
  },
  {
   "cell_type": "markdown",
   "metadata": {},
   "source": [
    "---\n",
    "#### Function\n",
    "---"
   ]
  },
  {
   "cell_type": "code",
   "execution_count": 5,
   "metadata": {},
   "outputs": [],
   "source": [
    "def max_sum(dict_: dict) -> int:\n",
    "    list_sum_values = [sum(v) for v in dict_.values()]\n",
    "    return max(list_sum_values)\n",
    "\n",
    "def min_sum(dict_: dict) -> int:\n",
    "    list_sum_values = [sum(v) for v in dict_.values()]\n",
    "    return min(list_sum_values)"
   ]
  },
  {
   "cell_type": "markdown",
   "metadata": {},
   "source": [
    "---\n",
    "#### Tests\n",
    "---"
   ]
  },
  {
   "cell_type": "code",
   "execution_count": 6,
   "metadata": {},
   "outputs": [
    {
     "data": {
      "text/plain": [
       "157"
      ]
     },
     "execution_count": 6,
     "metadata": {},
     "output_type": "execute_result"
    }
   ],
   "source": [
    "my_dict = {\n",
    "\t\"a\": [1, 2, 3],\n",
    "\t\"b\": [4, 0, -4],\n",
    "\t\"c\": [3, 5, 9],\n",
    "\t\"d\": [45, 12, 100]\n",
    "}\n",
    "\n",
    "max_sum(my_dict)"
   ]
  },
  {
   "cell_type": "code",
   "execution_count": 7,
   "metadata": {},
   "outputs": [
    {
     "data": {
      "text/plain": [
       "0"
      ]
     },
     "execution_count": 7,
     "metadata": {},
     "output_type": "execute_result"
    }
   ],
   "source": [
    "my_dict = {\n",
    "\t\"a\": [1, 2, 3],\n",
    "\t\"b\": [4, 0, -4],\n",
    "\t\"c\": [3, 5, 9],\n",
    "\t\"d\": [45, 12, 100]\n",
    "}\n",
    "\n",
    "min_sum(my_dict)"
   ]
  }
 ],
 "metadata": {
  "kernelspec": {
   "display_name": "venv",
   "language": "python",
   "name": "python3"
  },
  "language_info": {
   "codemirror_mode": {
    "name": "ipython",
    "version": 3
   },
   "file_extension": ".py",
   "mimetype": "text/x-python",
   "name": "python",
   "nbconvert_exporter": "python",
   "pygments_lexer": "ipython3",
   "version": "3.12.0"
  }
 },
 "nbformat": 4,
 "nbformat_minor": 2
}
