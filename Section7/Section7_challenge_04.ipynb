{
 "cells": [
  {
   "cell_type": "markdown",
   "metadata": {},
   "source": [
    "📌 Description:\n",
    "> * Write a Python program that creates and displays a dictionary that maps each letter in a string to how many times the character occurs in the string (its frequency).\n",
    "> * The dictionary should only include the characters in the string. \n",
    "> * The test should be case-insensitive (\"A\" should be counted as \"a\").\n",
    "> * The keys in the dictionary should be lowercase letters.\n",
    "> * Only include letters in the dictionary"
   ]
  },
  {
   "cell_type": "markdown",
   "metadata": {},
   "source": [
    "🔹 Expected Output:\n",
    "\n",
    "**Example 1:**\n",
    "\n",
    "For the string:\n",
    "\n",
    "`\"Hello, World\"`\n",
    "\n",
    "The output should be this dictionary:\n",
    "\n",
    "`{\"h\": 1, \"e\": 1, \"l\": 3, \"o\": 2, \"w\": 1, \"r\": 1, \"d\": 1}`\n",
    "\n",
    "Each letter is mapped to its corresponding frequency.\n",
    "\n",
    "**Example 2:**\n",
    "\n",
    "`\"Excellent\"`\n",
    "\n",
    "The output should be this dictionary:\n",
    "\n",
    "`{\"e\": 3, \"x\": 1, \"c\": 1, \"l\": 2, \"n\": 1, \"t\": 1}`"
   ]
  },
  {
   "cell_type": "markdown",
   "metadata": {},
   "source": [
    "--- \n",
    "#### Function\n",
    "---"
   ]
  },
  {
   "cell_type": "code",
   "execution_count": 21,
   "metadata": {},
   "outputs": [],
   "source": [
    "def count_frequency(string: str) -> dict:\n",
    "    letter_list = [l for l in string.lower() if l.isalpha()]\n",
    "    return {value: letter_list.count(value) for value in letter_list}"
   ]
  },
  {
   "cell_type": "markdown",
   "metadata": {},
   "source": [
    "---\n",
    "#### tests\n",
    "---"
   ]
  },
  {
   "cell_type": "code",
   "execution_count": 22,
   "metadata": {},
   "outputs": [
    {
     "data": {
      "text/plain": [
       "{'h': 1, 'e': 1, 'l': 3, 'o': 2, 'w': 1, 'r': 1, 'd': 1}"
      ]
     },
     "execution_count": 22,
     "metadata": {},
     "output_type": "execute_result"
    }
   ],
   "source": [
    "count_frequency(\"Hello, World\")"
   ]
  },
  {
   "cell_type": "code",
   "execution_count": 23,
   "metadata": {},
   "outputs": [
    {
     "data": {
      "text/plain": [
       "{'e': 3, 'x': 1, 'c': 1, 'l': 2, 'n': 1, 't': 1}"
      ]
     },
     "execution_count": 23,
     "metadata": {},
     "output_type": "execute_result"
    }
   ],
   "source": [
    "count_frequency(\"Excellent\")"
   ]
  }
 ],
 "metadata": {
  "kernelspec": {
   "display_name": "venv",
   "language": "python",
   "name": "python3"
  },
  "language_info": {
   "codemirror_mode": {
    "name": "ipython",
    "version": 3
   },
   "file_extension": ".py",
   "mimetype": "text/x-python",
   "name": "python",
   "nbconvert_exporter": "python",
   "pygments_lexer": "ipython3",
   "version": "3.12.0"
  }
 },
 "nbformat": 4,
 "nbformat_minor": 2
}
