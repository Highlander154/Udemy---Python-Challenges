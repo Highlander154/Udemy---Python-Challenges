{
 "cells": [
  {
   "cell_type": "markdown",
   "metadata": {},
   "source": [
    "📌 Description:\n",
    "> * Write a Python program that prints the string s without the character at index n.\n",
    "> * If the index n is out of range, print the string s intact.\n",
    "> * If the string s is empty, print the string s intact.\n",
    "\n",
    "🔹 Expected Output:\n",
    "String | n | Output\n",
    "--- | --- | ---\n",
    "\"Hello\" | 1 | \"Hllo\"\n",
    "\"World\" | 3 | \"Word\"\n",
    "\"Dog\" | 15 | \"Dog\"\n",
    "\"\" | 2 | \"\""
   ]
  },
  {
   "cell_type": "code",
   "execution_count": 40,
   "metadata": {},
   "outputs": [],
   "source": [
    "def remove_char_at_index_n(s: str, n: int) -> str:\n",
    "    if n < len(s) and n >= -len(s):\n",
    "        l = list(s)\n",
    "        l.pop(n)\n",
    "        return \"\".join(l)\n",
    "    return s"
   ]
  },
  {
   "cell_type": "code",
   "execution_count": 41,
   "metadata": {},
   "outputs": [
    {
     "name": "stdout",
     "output_type": "stream",
     "text": [
      "Hllo\n",
      "Word\n",
      "Dog\n",
      "\n"
     ]
    }
   ],
   "source": [
    "print(remove_char_at_index_n(\"Hello\", 1))\n",
    "print(remove_char_at_index_n(\"World\", 3))\n",
    "print(remove_char_at_index_n(\"Dog\", 15))\n",
    "print(remove_char_at_index_n(\"\", 2))"
   ]
  }
 ],
 "metadata": {
  "kernelspec": {
   "display_name": "Python 3",
   "language": "python",
   "name": "python3"
  },
  "language_info": {
   "codemirror_mode": {
    "name": "ipython",
    "version": 3
   },
   "file_extension": ".py",
   "mimetype": "text/x-python",
   "name": "python",
   "nbconvert_exporter": "python",
   "pygments_lexer": "ipython3",
   "version": "3.12.0"
  }
 },
 "nbformat": 4,
 "nbformat_minor": 2
}
