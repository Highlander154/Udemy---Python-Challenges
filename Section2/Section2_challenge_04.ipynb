{
 "cells": [
  {
   "cell_type": "markdown",
   "metadata": {},
   "source": [
    "📌 Description:\n",
    "> * Write a Python program that prints the first and last `n` characters of the string s as a single string.\n",
    "> * If the string has less than `2*n` characters, print an empty string (blank output).\n",
    "\n",
    "🔹 Expected Output:  \n",
    "Input | Output\n",
    "--- | ---\n",
    "\"Blue\" | \"\"\n",
    "\"Wonderful\" | \"Wonful\"\n",
    "\"Amazing\" | \"Amaing\""
   ]
  },
  {
   "cell_type": "code",
   "execution_count": 18,
   "metadata": {},
   "outputs": [],
   "source": [
    "def first_and_last(s:str, n: int = 3) -> str:\n",
    "    if len(s) > 2*n:\n",
    "        return s[:n] + s[-n:]\n",
    "    return \"\""
   ]
  },
  {
   "cell_type": "code",
   "execution_count": 20,
   "metadata": {},
   "outputs": [
    {
     "name": "stdout",
     "output_type": "stream",
     "text": [
      "\n",
      "Wonful\n",
      "Ag\n"
     ]
    }
   ],
   "source": [
    "print(first_and_last(\"Blue\"))\n",
    "print(first_and_last(\"Wonderful\"))\n",
    "print(first_and_last(\"Amazing\"))"
   ]
  }
 ],
 "metadata": {
  "kernelspec": {
   "display_name": "Python 3",
   "language": "python",
   "name": "python3"
  },
  "language_info": {
   "codemirror_mode": {
    "name": "ipython",
    "version": 3
   },
   "file_extension": ".py",
   "mimetype": "text/x-python",
   "name": "python",
   "nbconvert_exporter": "python",
   "pygments_lexer": "ipython3",
   "version": "3.12.0"
  }
 },
 "nbformat": 4,
 "nbformat_minor": 2
}
