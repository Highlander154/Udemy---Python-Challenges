{
 "cells": [
  {
   "cell_type": "markdown",
   "metadata": {},
   "source": [
    "📌 Description:\n",
    "> * Write a Python program that prints the character at index `i` in the string `s`.\n",
    "> * If the index is out of range, the program should print `\"i out of range\"`\n",
    "> * If the string is empty, the program should print `\"Empty String\"`"
   ]
  },
  {
   "cell_type": "markdown",
   "metadata": {},
   "source": [
    "🔹 Expected Output:  \n",
    "If the string is \"Hello\" and i is 2, the output should be \"l\".\n",
    "\n",
    "If the string is \"Pizza\" and i is 4, the output should be \"a\".\n",
    "\n",
    "If the string is \"\" and i is 3, the output should be \"Empty String\".\n",
    "\n",
    "If the string is \"World\" and i is 15, the output should be \"i out of range\"."
   ]
  },
  {
   "cell_type": "code",
   "execution_count": 74,
   "metadata": {},
   "outputs": [],
   "source": [
    "def char_at_index(s: str, i: int) -> str:\n",
    "    if len(s) == 0:\n",
    "        return \"Empty string\"\n",
    "    if i < -len(s) or i >= len(s): \n",
    "        return f\"index {i} is out of range\"\n",
    "    return s[i]"
   ]
  },
  {
   "cell_type": "code",
   "execution_count": 81,
   "metadata": {},
   "outputs": [
    {
     "name": "stdout",
     "output_type": "stream",
     "text": [
      "l\n",
      "H\n",
      "a\n",
      "Empty string\n",
      "index 5 is out of range\n",
      "index -6 is out of range\n"
     ]
    }
   ],
   "source": [
    "print(char_at_index(\"Hello\", 2))\n",
    "print(char_at_index(\"Hello\", -5))\n",
    "print(char_at_index(\"Pizza\", 4))\n",
    "print(char_at_index(\"\", 3))\n",
    "print(char_at_index(\"World\", 5))\n",
    "print(char_at_index(\"World\", -6))"
   ]
  }
 ],
 "metadata": {
  "kernelspec": {
   "display_name": "Python 3",
   "language": "python",
   "name": "python3"
  },
  "language_info": {
   "codemirror_mode": {
    "name": "ipython",
    "version": 3
   },
   "file_extension": ".py",
   "mimetype": "text/x-python",
   "name": "python",
   "nbconvert_exporter": "python",
   "pygments_lexer": "ipython3",
   "version": "3.12.0"
  }
 },
 "nbformat": 4,
 "nbformat_minor": 2
}
