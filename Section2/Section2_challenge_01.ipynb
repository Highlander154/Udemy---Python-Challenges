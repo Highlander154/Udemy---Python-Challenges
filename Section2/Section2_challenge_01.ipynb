{
 "cells": [
  {
   "cell_type": "markdown",
   "metadata": {},
   "source": [
    "> Write a Python program that prints the length of a string `s`.\n",
    "\n",
    "**Expected Output:**\n",
    "\n",
    "Input | Output\n",
    "--- | ---\n",
    "\"\" | 0\n",
    "\"H\" | 1\n",
    "\"Hello\" | 5\n",
    "\"Amazing\" | 7"
   ]
  },
  {
   "cell_type": "code",
   "execution_count": 8,
   "metadata": {},
   "outputs": [
    {
     "name": "stdout",
     "output_type": "stream",
     "text": [
      "0\n",
      "1\n",
      "5\n",
      "7\n"
     ]
    }
   ],
   "source": [
    "# Built in Python Function len()\n",
    "\n",
    "print(len(\"\"))\n",
    "print(len(\"H\"))\n",
    "print(len(\"Hello\"))\n",
    "print(len(\"Amazing\"))"
   ]
  }
 ],
 "metadata": {
  "kernelspec": {
   "display_name": "Python 3",
   "language": "python",
   "name": "python3"
  },
  "language_info": {
   "codemirror_mode": {
    "name": "ipython",
    "version": 3
   },
   "file_extension": ".py",
   "mimetype": "text/x-python",
   "name": "python",
   "nbconvert_exporter": "python",
   "pygments_lexer": "ipython3",
   "version": "3.12.0"
  }
 },
 "nbformat": 4,
 "nbformat_minor": 2
}
