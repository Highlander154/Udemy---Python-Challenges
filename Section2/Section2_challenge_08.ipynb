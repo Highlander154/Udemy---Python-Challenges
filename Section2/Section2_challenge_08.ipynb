{
 "cells": [
  {
   "cell_type": "markdown",
   "metadata": {},
   "source": [
    "📌 Description:\n",
    "> * Write a Python program that prints the string s with the character curr_char replaced by the character new_char.\n",
    "> * curr_char and new_char are variables that contain strings with a single character.\n",
    "> * You may assume that new_char will not be an empty string.\n",
    "> * The match must be case-sensitive (do not replace lowercase letters if curr_char is uppercase).\n",
    "> * If no match is found, print the initial string.\n",
    "\n",
    "🔹 Expected Output:\n",
    "String | curr_char | new_char | Output\n",
    "--- | --- | --- | ---\n",
    "\"Hello\" | \"l\" | \"s\" | \"Hesso\"\n",
    "\"World\" | \"W\" | \"A\" | \"Aorld\"\n",
    "\"Python\" | \"P\" | \"x\" | \"xython\"\n",
    "\"Python\" | \"p\" | \"a\" | \"Python"
   ]
  },
  {
   "cell_type": "code",
   "execution_count": 1,
   "metadata": {},
   "outputs": [],
   "source": [
    "def replace_char(string: str, curr_char: str, new_char: str) -> str:\n",
    "    return string.replace(curr_char, new_char)"
   ]
  },
  {
   "cell_type": "code",
   "execution_count": 2,
   "metadata": {},
   "outputs": [
    {
     "name": "stdout",
     "output_type": "stream",
     "text": [
      "Hesso\n",
      "Aorld\n",
      "xython\n",
      "Python\n"
     ]
    }
   ],
   "source": [
    "print(replace_char(\"Hello\", \"l\", \"s\"))\n",
    "print(replace_char(\"World\", \"W\", \"A\"))\n",
    "print(replace_char(\"Python\", \"P\", \"x\"))\n",
    "print(replace_char(\"Python\", \"p\", \"a\"))"
   ]
  },
  {
   "cell_type": "markdown",
   "metadata": {},
   "source": [
    "**FUN FACTS**\n",
    "\n",
    "---\n",
    "\n"
   ]
  },
  {
   "cell_type": "code",
   "execution_count": 11,
   "metadata": {},
   "outputs": [
    {
     "name": "stdout",
     "output_type": "stream",
     "text": [
      "Help on method_descriptor:\n",
      "\n",
      "replace(self, old, new, count=-1, /)\n",
      "    Return a copy with all occurrences of substring old replaced by new.\n",
      "\n",
      "      count\n",
      "        Maximum number of occurrences to replace.\n",
      "        -1 (the default value) means replace all occurrences.\n",
      "\n",
      "    If the optional argument count is given, only the first count occurrences are\n",
      "    replaced.\n",
      "\n"
     ]
    }
   ],
   "source": [
    "help(str.replace)\n"
   ]
  },
  {
   "cell_type": "code",
   "execution_count": 15,
   "metadata": {},
   "outputs": [
    {
     "name": "stdout",
     "output_type": "stream",
     "text": [
      "a...\n",
      "aa..\n",
      "aaaa\n"
     ]
    }
   ],
   "source": [
    "s = \"....\"\n",
    "\n",
    "print(s.replace(\".\", \"a\", 1))  # replaces 1 occurrence\n",
    "print(s.replace(\".\", \"a\", 2))  # replaces 2 occurences\n",
    "print(s.replace(\".\", \"a\"))     # replaces all occurences"
   ]
  }
 ],
 "metadata": {
  "kernelspec": {
   "display_name": "Python 3",
   "language": "python",
   "name": "python3"
  },
  "language_info": {
   "codemirror_mode": {
    "name": "ipython",
    "version": 3
   },
   "file_extension": ".py",
   "mimetype": "text/x-python",
   "name": "python",
   "nbconvert_exporter": "python",
   "pygments_lexer": "ipython3",
   "version": "3.12.0"
  }
 },
 "nbformat": 4,
 "nbformat_minor": 2
}
