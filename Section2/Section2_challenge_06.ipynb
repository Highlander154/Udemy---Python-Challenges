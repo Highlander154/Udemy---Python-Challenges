{
 "cells": [
  {
   "cell_type": "markdown",
   "metadata": {},
   "source": [
    "📌 Description:\n",
    "> * Write a Python program that check if a string only contains numbers.\n",
    "> * If it does, print True. Else, print False.\n",
    "\n",
    "🔹 Expected Output:\n",
    "String | Output\n",
    "--- | ---\n",
    "\"Hello\" | False\n",
    "\"4567\" | True\n",
    "\"Hello59\" | False\n",
    "\"\" | False"
   ]
  },
  {
   "cell_type": "code",
   "execution_count": 10,
   "metadata": {},
   "outputs": [],
   "source": [
    "def str_of_numbers(s:str) -> bool:\n",
    "    return s.isdecimal()"
   ]
  },
  {
   "cell_type": "code",
   "execution_count": 11,
   "metadata": {},
   "outputs": [
    {
     "name": "stdout",
     "output_type": "stream",
     "text": [
      "False\n",
      "True\n",
      "False\n",
      "False\n"
     ]
    }
   ],
   "source": [
    "print(str_of_numbers(\"Hello\"))\n",
    "print(str_of_numbers(\"4567\"))\n",
    "print(str_of_numbers(\"Hello59\"))\n",
    "print(str_of_numbers(\"\"))"
   ]
  }
 ],
 "metadata": {
  "kernelspec": {
   "display_name": "Python 3",
   "language": "python",
   "name": "python3"
  },
  "language_info": {
   "codemirror_mode": {
    "name": "ipython",
    "version": 3
   },
   "file_extension": ".py",
   "mimetype": "text/x-python",
   "name": "python",
   "nbconvert_exporter": "python",
   "pygments_lexer": "ipython3",
   "version": "3.12.0"
  }
 },
 "nbformat": 4,
 "nbformat_minor": 2
}
