{
 "cells": [
  {
   "cell_type": "markdown",
   "metadata": {},
   "source": [
    "📌 Description:\n",
    "> * Write a Python program that prints the string s without the characters located at even indices.\n",
    "> * If the string is empty or only has one character, print it without any changes.\n",
    "\n",
    "🔹 Expected Output:\n",
    "Input | Output\n",
    "--- | ---\n",
    "\"Coding\" | \"oig\"\n",
    "\"Pizza\" | \"iz\"\n",
    "\"Python\" | \"yhn\"\n",
    "\"A\" | \"A\"\n",
    "\"\" | \"\"  "
   ]
  },
  {
   "cell_type": "code",
   "execution_count": 20,
   "metadata": {},
   "outputs": [],
   "source": [
    "def remove_even_indices(s: str) -> str:\n",
    "    if len(s) in [0,1]:\n",
    "        return s\n",
    "    \n",
    "    temp_list = [val for idx, val in enumerate(s) if idx % 2 != 0]\n",
    "    return \"\".join(temp_list)\n",
    "    "
   ]
  },
  {
   "cell_type": "code",
   "execution_count": 21,
   "metadata": {},
   "outputs": [
    {
     "name": "stdout",
     "output_type": "stream",
     "text": [
      "oig\n",
      "iz\n",
      "yhn\n",
      "A\n",
      "\n"
     ]
    }
   ],
   "source": [
    "print(remove_even_indices(\"Coding\"))\n",
    "print(remove_even_indices(\"Pizza\"))\n",
    "print(remove_even_indices(\"Python\"))\n",
    "print(remove_even_indices(\"A\"))\n",
    "print(remove_even_indices(\"\"))"
   ]
  }
 ],
 "metadata": {
  "kernelspec": {
   "display_name": "Python 3",
   "language": "python",
   "name": "python3"
  },
  "language_info": {
   "codemirror_mode": {
    "name": "ipython",
    "version": 3
   },
   "file_extension": ".py",
   "mimetype": "text/x-python",
   "name": "python",
   "nbconvert_exporter": "python",
   "pygments_lexer": "ipython3",
   "version": "3.12.0"
  }
 },
 "nbformat": 4,
 "nbformat_minor": 2
}
