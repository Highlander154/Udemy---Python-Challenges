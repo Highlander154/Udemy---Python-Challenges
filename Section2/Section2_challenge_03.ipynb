{
 "cells": [
  {
   "cell_type": "markdown",
   "metadata": {},
   "source": [
    "📌 Description:\n",
    "> * Write a Python Program that prints the reversed version of a string.\n",
    "> * The program must preserve uppercase and lowercase letters.\n",
    "> * If the string is empty, print it intact.\n",
    "\n",
    "🔹 Expected Output:\n",
    "Input | Output\n",
    "--- | ---\n",
    "\"Hello\" | \"olleH\"\n",
    "\"Wo\" | \"oW\" \n",
    "\"\" | \"\""
   ]
  },
  {
   "cell_type": "code",
   "execution_count": 1,
   "metadata": {},
   "outputs": [],
   "source": [
    "def reversed_string(s: str) -> str:\n",
    "    return s[::-1]"
   ]
  },
  {
   "cell_type": "code",
   "execution_count": 2,
   "metadata": {},
   "outputs": [
    {
     "name": "stdout",
     "output_type": "stream",
     "text": [
      "olleH\n",
      "oW\n",
      "\n"
     ]
    }
   ],
   "source": [
    "print(reversed_string(\"Hello\"))\n",
    "print(reversed_string(\"Wo\"))\n",
    "print(reversed_string(\"\"))"
   ]
  }
 ],
 "metadata": {
  "kernelspec": {
   "display_name": "Python 3",
   "language": "python",
   "name": "python3"
  },
  "language_info": {
   "codemirror_mode": {
    "name": "ipython",
    "version": 3
   },
   "file_extension": ".py",
   "mimetype": "text/x-python",
   "name": "python",
   "nbconvert_exporter": "python",
   "pygments_lexer": "ipython3",
   "version": "3.12.0"
  }
 },
 "nbformat": 4,
 "nbformat_minor": 2
}
